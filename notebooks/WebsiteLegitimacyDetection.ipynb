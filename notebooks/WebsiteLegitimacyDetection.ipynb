{
 "cells": [
  {
   "cell_type": "markdown",
   "id": "0b7437fa-2b7b-4bb9-935f-54c4d8467793",
   "metadata": {},
   "source": [
    "# Website Legitimacy Detection System using PyCaret\n",
    "\n",
    "This project aims to classify websites as `benign`, `malicious`, or other potentially harmful categories based on URL patterns. \n",
    "\n",
    "## Problem Statement\n",
    "\n",
    "Malicious websites pose security risks to users. This system predicts if a website is malicious, aiding in identifying potential security threats"
   ]
  },
  {
   "cell_type": "markdown",
   "id": "064a415f-6b61-4999-8479-54eba5ecd6a5",
   "metadata": {},
   "source": [
    "# Step 1: Import Necessary Libraries"
   ]
  },
  {
   "cell_type": "code",
   "execution_count": 1,
   "id": "44aac2a9-9f5a-438f-9ac4-5417f7acbc98",
   "metadata": {
    "scrolled": true
   },
   "outputs": [
    {
     "name": "stderr",
     "output_type": "stream",
     "text": [
      "WARNING: Ignoring invalid distribution -atplotlib (c:\\users\\nasru\\anaconda3\\envs\\data_science\\lib\\site-packages)\n",
      "WARNING: Ignoring invalid distribution -atplotlib (c:\\users\\nasru\\anaconda3\\envs\\data_science\\lib\\site-packages)\n",
      "WARNING: Ignoring invalid distribution -atplotlib (c:\\users\\nasru\\anaconda3\\envs\\data_science\\lib\\site-packages)\n"
     ]
    },
    {
     "name": "stdout",
     "output_type": "stream",
     "text": [
      "Requirement already satisfied: pycaret in c:\\users\\nasru\\anaconda3\\envs\\data_science\\lib\\site-packages (3.3.2)\n",
      "Requirement already satisfied: joblib in c:\\users\\nasru\\anaconda3\\envs\\data_science\\lib\\site-packages (1.3.2)\n",
      "Requirement already satisfied: tldextract in c:\\users\\nasru\\anaconda3\\envs\\data_science\\lib\\site-packages (5.1.2)\n",
      "Requirement already satisfied: plotly in c:\\users\\nasru\\anaconda3\\envs\\data_science\\lib\\site-packages (5.20.0)\n",
      "Requirement already satisfied: ipython>=5.5.0 in c:\\users\\nasru\\anaconda3\\envs\\data_science\\lib\\site-packages (from pycaret) (8.27.0)\n",
      "Requirement already satisfied: ipywidgets>=7.6.5 in c:\\users\\nasru\\anaconda3\\envs\\data_science\\lib\\site-packages (from pycaret) (8.1.2)\n",
      "Requirement already satisfied: tqdm>=4.62.0 in c:\\users\\nasru\\anaconda3\\envs\\data_science\\lib\\site-packages (from pycaret) (4.66.4)\n",
      "Requirement already satisfied: numpy<1.27,>=1.21 in c:\\users\\nasru\\anaconda3\\envs\\data_science\\lib\\site-packages (from pycaret) (1.26.4)\n",
      "Requirement already satisfied: pandas<2.2.0 in c:\\users\\nasru\\anaconda3\\envs\\data_science\\lib\\site-packages (from pycaret) (2.1.4)\n",
      "Requirement already satisfied: jinja2>=3 in c:\\users\\nasru\\anaconda3\\envs\\data_science\\lib\\site-packages (from pycaret) (3.1.4)\n",
      "Requirement already satisfied: scipy<=1.11.4,>=1.6.1 in c:\\users\\nasru\\anaconda3\\envs\\data_science\\lib\\site-packages (from pycaret) (1.11.4)\n",
      "Requirement already satisfied: scikit-learn>1.4.0 in c:\\users\\nasru\\anaconda3\\envs\\data_science\\lib\\site-packages (from pycaret) (1.4.2)\n",
      "Requirement already satisfied: pyod>=1.1.3 in c:\\users\\nasru\\anaconda3\\envs\\data_science\\lib\\site-packages (from pycaret) (2.0.1)\n",
      "Requirement already satisfied: imbalanced-learn>=0.12.0 in c:\\users\\nasru\\anaconda3\\envs\\data_science\\lib\\site-packages (from pycaret) (0.12.3)\n",
      "Requirement already satisfied: category-encoders>=2.4.0 in c:\\users\\nasru\\anaconda3\\envs\\data_science\\lib\\site-packages (from pycaret) (2.6.3)\n",
      "Requirement already satisfied: lightgbm>=3.0.0 in c:\\users\\nasru\\anaconda3\\envs\\data_science\\lib\\site-packages (from pycaret) (4.5.0)\n",
      "Requirement already satisfied: numba>=0.55.0 in c:\\users\\nasru\\anaconda3\\envs\\data_science\\lib\\site-packages (from pycaret) (0.60.0)\n",
      "Requirement already satisfied: requests>=2.27.1 in c:\\users\\nasru\\anaconda3\\envs\\data_science\\lib\\site-packages (from pycaret) (2.32.3)\n",
      "Requirement already satisfied: psutil>=5.9.0 in c:\\users\\nasru\\anaconda3\\envs\\data_science\\lib\\site-packages (from pycaret) (5.9.0)\n",
      "Requirement already satisfied: markupsafe>=2.0.1 in c:\\users\\nasru\\anaconda3\\envs\\data_science\\lib\\site-packages (from pycaret) (2.1.3)\n",
      "Requirement already satisfied: importlib-metadata>=4.12.0 in c:\\users\\nasru\\anaconda3\\envs\\data_science\\lib\\site-packages (from pycaret) (7.2.1)\n",
      "Requirement already satisfied: nbformat>=4.2.0 in c:\\users\\nasru\\anaconda3\\envs\\data_science\\lib\\site-packages (from pycaret) (5.10.4)\n",
      "Requirement already satisfied: cloudpickle in c:\\users\\nasru\\anaconda3\\envs\\data_science\\lib\\site-packages (from pycaret) (3.0.0)\n",
      "Requirement already satisfied: deprecation>=2.1.0 in c:\\users\\nasru\\anaconda3\\envs\\data_science\\lib\\site-packages (from pycaret) (2.1.0)\n",
      "Requirement already satisfied: xxhash in c:\\users\\nasru\\anaconda3\\envs\\data_science\\lib\\site-packages (from pycaret) (3.4.1)\n",
      "Requirement already satisfied: matplotlib<3.8.0 in c:\\users\\nasru\\anaconda3\\envs\\data_science\\lib\\site-packages (from pycaret) (3.7.5)\n",
      "Requirement already satisfied: scikit-plot>=0.3.7 in c:\\users\\nasru\\anaconda3\\envs\\data_science\\lib\\site-packages (from pycaret) (0.3.7)\n",
      "Requirement already satisfied: yellowbrick>=1.4 in c:\\users\\nasru\\anaconda3\\envs\\data_science\\lib\\site-packages (from pycaret) (1.5)\n",
      "Requirement already satisfied: kaleido>=0.2.1 in c:\\users\\nasru\\anaconda3\\envs\\data_science\\lib\\site-packages (from pycaret) (0.2.1)\n",
      "Requirement already satisfied: schemdraw==0.15 in c:\\users\\nasru\\anaconda3\\envs\\data_science\\lib\\site-packages (from pycaret) (0.15)\n",
      "Requirement already satisfied: plotly-resampler>=0.8.3.1 in c:\\users\\nasru\\anaconda3\\envs\\data_science\\lib\\site-packages (from pycaret) (0.10.0)\n",
      "Requirement already satisfied: statsmodels>=0.12.1 in c:\\users\\nasru\\anaconda3\\envs\\data_science\\lib\\site-packages (from pycaret) (0.14.2)\n",
      "Requirement already satisfied: sktime==0.26.0 in c:\\users\\nasru\\anaconda3\\envs\\data_science\\lib\\site-packages (from pycaret) (0.26.0)\n",
      "Requirement already satisfied: tbats>=1.1.3 in c:\\users\\nasru\\anaconda3\\envs\\data_science\\lib\\site-packages (from pycaret) (1.1.3)\n",
      "Requirement already satisfied: pmdarima>=2.0.4 in c:\\users\\nasru\\anaconda3\\envs\\data_science\\lib\\site-packages (from pycaret) (2.0.4)\n",
      "Requirement already satisfied: packaging in c:\\users\\nasru\\anaconda3\\envs\\data_science\\lib\\site-packages (from sktime==0.26.0->pycaret) (24.1)\n",
      "Requirement already satisfied: scikit-base<0.8.0 in c:\\users\\nasru\\anaconda3\\envs\\data_science\\lib\\site-packages (from sktime==0.26.0->pycaret) (0.7.8)\n",
      "Requirement already satisfied: idna in c:\\users\\nasru\\anaconda3\\envs\\data_science\\lib\\site-packages (from tldextract) (3.7)\n",
      "Requirement already satisfied: requests-file>=1.4 in c:\\users\\nasru\\anaconda3\\envs\\data_science\\lib\\site-packages (from tldextract) (2.1.0)\n",
      "Requirement already satisfied: filelock>=3.0.8 in c:\\users\\nasru\\anaconda3\\envs\\data_science\\lib\\site-packages (from tldextract) (3.16.1)\n",
      "Requirement already satisfied: tenacity>=6.2.0 in c:\\users\\nasru\\anaconda3\\envs\\data_science\\lib\\site-packages (from plotly) (9.0.0)\n",
      "Requirement already satisfied: patsy>=0.5.1 in c:\\users\\nasru\\anaconda3\\envs\\data_science\\lib\\site-packages (from category-encoders>=2.4.0->pycaret) (0.5.6)\n",
      "Requirement already satisfied: threadpoolctl>=2.0.0 in c:\\users\\nasru\\anaconda3\\envs\\data_science\\lib\\site-packages (from imbalanced-learn>=0.12.0->pycaret) (3.5.0)\n",
      "Requirement already satisfied: zipp>=0.5 in c:\\users\\nasru\\anaconda3\\envs\\data_science\\lib\\site-packages (from importlib-metadata>=4.12.0->pycaret) (3.19.2)\n",
      "Requirement already satisfied: decorator in c:\\users\\nasru\\anaconda3\\envs\\data_science\\lib\\site-packages (from ipython>=5.5.0->pycaret) (5.1.1)\n",
      "Requirement already satisfied: jedi>=0.16 in c:\\users\\nasru\\anaconda3\\envs\\data_science\\lib\\site-packages (from ipython>=5.5.0->pycaret) (0.19.1)\n",
      "Requirement already satisfied: matplotlib-inline in c:\\users\\nasru\\anaconda3\\envs\\data_science\\lib\\site-packages (from ipython>=5.5.0->pycaret) (0.1.6)\n",
      "Requirement already satisfied: prompt-toolkit<3.1.0,>=3.0.41 in c:\\users\\nasru\\anaconda3\\envs\\data_science\\lib\\site-packages (from ipython>=5.5.0->pycaret) (3.0.43)\n",
      "Requirement already satisfied: pygments>=2.4.0 in c:\\users\\nasru\\anaconda3\\envs\\data_science\\lib\\site-packages (from ipython>=5.5.0->pycaret) (2.15.1)\n",
      "Requirement already satisfied: stack-data in c:\\users\\nasru\\anaconda3\\envs\\data_science\\lib\\site-packages (from ipython>=5.5.0->pycaret) (0.2.0)\n",
      "Requirement already satisfied: traitlets>=5.13.0 in c:\\users\\nasru\\anaconda3\\envs\\data_science\\lib\\site-packages (from ipython>=5.5.0->pycaret) (5.14.3)\n",
      "Requirement already satisfied: exceptiongroup in c:\\users\\nasru\\anaconda3\\envs\\data_science\\lib\\site-packages (from ipython>=5.5.0->pycaret) (1.2.0)\n",
      "Requirement already satisfied: typing-extensions>=4.6 in c:\\users\\nasru\\anaconda3\\envs\\data_science\\lib\\site-packages (from ipython>=5.5.0->pycaret) (4.11.0)\n",
      "Requirement already satisfied: colorama in c:\\users\\nasru\\anaconda3\\envs\\data_science\\lib\\site-packages (from ipython>=5.5.0->pycaret) (0.4.6)\n",
      "Requirement already satisfied: comm>=0.1.3 in c:\\users\\nasru\\anaconda3\\envs\\data_science\\lib\\site-packages (from ipywidgets>=7.6.5->pycaret) (0.2.1)\n",
      "Requirement already satisfied: widgetsnbextension~=4.0.10 in c:\\users\\nasru\\anaconda3\\envs\\data_science\\lib\\site-packages (from ipywidgets>=7.6.5->pycaret) (4.0.10)\n",
      "Requirement already satisfied: jupyterlab-widgets~=3.0.10 in c:\\users\\nasru\\anaconda3\\envs\\data_science\\lib\\site-packages (from ipywidgets>=7.6.5->pycaret) (3.0.10)\n",
      "Requirement already satisfied: contourpy>=1.0.1 in c:\\users\\nasru\\anaconda3\\envs\\data_science\\lib\\site-packages (from matplotlib<3.8.0->pycaret) (1.2.0)\n",
      "Requirement already satisfied: cycler>=0.10 in c:\\users\\nasru\\anaconda3\\envs\\data_science\\lib\\site-packages (from matplotlib<3.8.0->pycaret) (0.11.0)\n",
      "Requirement already satisfied: fonttools>=4.22.0 in c:\\users\\nasru\\anaconda3\\envs\\data_science\\lib\\site-packages (from matplotlib<3.8.0->pycaret) (4.51.0)\n",
      "Requirement already satisfied: kiwisolver>=1.0.1 in c:\\users\\nasru\\anaconda3\\envs\\data_science\\lib\\site-packages (from matplotlib<3.8.0->pycaret) (1.4.4)\n",
      "Requirement already satisfied: pillow>=6.2.0 in c:\\users\\nasru\\anaconda3\\envs\\data_science\\lib\\site-packages (from matplotlib<3.8.0->pycaret) (10.4.0)\n",
      "Requirement already satisfied: pyparsing>=2.3.1 in c:\\users\\nasru\\anaconda3\\envs\\data_science\\lib\\site-packages (from matplotlib<3.8.0->pycaret) (3.1.2)\n",
      "Requirement already satisfied: python-dateutil>=2.7 in c:\\users\\nasru\\anaconda3\\envs\\data_science\\lib\\site-packages (from matplotlib<3.8.0->pycaret) (2.9.0.post0)\n",
      "Requirement already satisfied: fastjsonschema>=2.15 in c:\\users\\nasru\\anaconda3\\envs\\data_science\\lib\\site-packages (from nbformat>=4.2.0->pycaret) (2.16.2)\n",
      "Requirement already satisfied: jsonschema>=2.6 in c:\\users\\nasru\\anaconda3\\envs\\data_science\\lib\\site-packages (from nbformat>=4.2.0->pycaret) (4.23.0)\n",
      "Requirement already satisfied: jupyter-core!=5.0.*,>=4.12 in c:\\users\\nasru\\anaconda3\\envs\\data_science\\lib\\site-packages (from nbformat>=4.2.0->pycaret) (5.7.2)\n",
      "Requirement already satisfied: llvmlite<0.44,>=0.43.0dev0 in c:\\users\\nasru\\anaconda3\\envs\\data_science\\lib\\site-packages (from numba>=0.55.0->pycaret) (0.43.0)\n",
      "Requirement already satisfied: pytz>=2020.1 in c:\\users\\nasru\\anaconda3\\envs\\data_science\\lib\\site-packages (from pandas<2.2.0->pycaret) (2024.1)\n",
      "Requirement already satisfied: tzdata>=2022.1 in c:\\users\\nasru\\anaconda3\\envs\\data_science\\lib\\site-packages (from pandas<2.2.0->pycaret) (2023.3)\n",
      "Requirement already satisfied: dash>=2.9.0 in c:\\users\\nasru\\anaconda3\\envs\\data_science\\lib\\site-packages (from plotly-resampler>=0.8.3.1->pycaret) (2.17.1)\n",
      "Requirement already satisfied: orjson<4.0.0,>=3.8.0 in c:\\users\\nasru\\anaconda3\\envs\\data_science\\lib\\site-packages (from plotly-resampler>=0.8.3.1->pycaret) (3.10.6)\n",
      "Requirement already satisfied: tsdownsample>=0.1.3 in c:\\users\\nasru\\anaconda3\\envs\\data_science\\lib\\site-packages (from plotly-resampler>=0.8.3.1->pycaret) (0.1.3)\n",
      "Requirement already satisfied: Cython!=0.29.18,!=0.29.31,>=0.29 in c:\\users\\nasru\\anaconda3\\envs\\data_science\\lib\\site-packages (from pmdarima>=2.0.4->pycaret) (3.0.10)\n",
      "Requirement already satisfied: urllib3 in c:\\users\\nasru\\anaconda3\\envs\\data_science\\lib\\site-packages (from pmdarima>=2.0.4->pycaret) (2.2.3)\n",
      "Requirement already satisfied: setuptools!=50.0.0,>=38.6.0 in c:\\users\\nasru\\anaconda3\\envs\\data_science\\lib\\site-packages (from pmdarima>=2.0.4->pycaret) (75.1.0)\n",
      "Requirement already satisfied: charset-normalizer<4,>=2 in c:\\users\\nasru\\anaconda3\\envs\\data_science\\lib\\site-packages (from requests>=2.27.1->pycaret) (3.3.2)\n",
      "Requirement already satisfied: certifi>=2017.4.17 in c:\\users\\nasru\\anaconda3\\envs\\data_science\\lib\\site-packages (from requests>=2.27.1->pycaret) (2024.8.30)\n",
      "Requirement already satisfied: Flask<3.1,>=1.0.4 in c:\\users\\nasru\\anaconda3\\envs\\data_science\\lib\\site-packages (from dash>=2.9.0->plotly-resampler>=0.8.3.1->pycaret) (3.0.3)\n",
      "Requirement already satisfied: Werkzeug<3.1 in c:\\users\\nasru\\anaconda3\\envs\\data_science\\lib\\site-packages (from dash>=2.9.0->plotly-resampler>=0.8.3.1->pycaret) (3.0.3)\n",
      "Requirement already satisfied: dash-html-components==2.0.0 in c:\\users\\nasru\\anaconda3\\envs\\data_science\\lib\\site-packages (from dash>=2.9.0->plotly-resampler>=0.8.3.1->pycaret) (2.0.0)\n",
      "Requirement already satisfied: dash-core-components==2.0.0 in c:\\users\\nasru\\anaconda3\\envs\\data_science\\lib\\site-packages (from dash>=2.9.0->plotly-resampler>=0.8.3.1->pycaret) (2.0.0)\n",
      "Requirement already satisfied: dash-table==5.0.0 in c:\\users\\nasru\\anaconda3\\envs\\data_science\\lib\\site-packages (from dash>=2.9.0->plotly-resampler>=0.8.3.1->pycaret) (5.0.0)\n",
      "Requirement already satisfied: retrying in c:\\users\\nasru\\anaconda3\\envs\\data_science\\lib\\site-packages (from dash>=2.9.0->plotly-resampler>=0.8.3.1->pycaret) (1.3.4)\n",
      "Requirement already satisfied: nest-asyncio in c:\\users\\nasru\\anaconda3\\envs\\data_science\\lib\\site-packages (from dash>=2.9.0->plotly-resampler>=0.8.3.1->pycaret) (1.6.0)\n",
      "Requirement already satisfied: parso<0.9.0,>=0.8.3 in c:\\users\\nasru\\anaconda3\\envs\\data_science\\lib\\site-packages (from jedi>=0.16->ipython>=5.5.0->pycaret) (0.8.3)\n",
      "Requirement already satisfied: attrs>=22.2.0 in c:\\users\\nasru\\anaconda3\\envs\\data_science\\lib\\site-packages (from jsonschema>=2.6->nbformat>=4.2.0->pycaret) (24.2.0)\n",
      "Requirement already satisfied: jsonschema-specifications>=2023.03.6 in c:\\users\\nasru\\anaconda3\\envs\\data_science\\lib\\site-packages (from jsonschema>=2.6->nbformat>=4.2.0->pycaret) (2023.7.1)\n",
      "Requirement already satisfied: referencing>=0.28.4 in c:\\users\\nasru\\anaconda3\\envs\\data_science\\lib\\site-packages (from jsonschema>=2.6->nbformat>=4.2.0->pycaret) (0.30.2)\n",
      "Requirement already satisfied: rpds-py>=0.7.1 in c:\\users\\nasru\\anaconda3\\envs\\data_science\\lib\\site-packages (from jsonschema>=2.6->nbformat>=4.2.0->pycaret) (0.10.6)\n",
      "Requirement already satisfied: platformdirs>=2.5 in c:\\users\\nasru\\anaconda3\\envs\\data_science\\lib\\site-packages (from jupyter-core!=5.0.*,>=4.12->nbformat>=4.2.0->pycaret) (3.10.0)\n",
      "Requirement already satisfied: pywin32>=300 in c:\\users\\nasru\\anaconda3\\envs\\data_science\\lib\\site-packages (from jupyter-core!=5.0.*,>=4.12->nbformat>=4.2.0->pycaret) (305.1)\n",
      "Requirement already satisfied: six in c:\\users\\nasru\\anaconda3\\envs\\data_science\\lib\\site-packages (from patsy>=0.5.1->category-encoders>=2.4.0->pycaret) (1.16.0)\n",
      "Requirement already satisfied: wcwidth in c:\\users\\nasru\\anaconda3\\envs\\data_science\\lib\\site-packages (from prompt-toolkit<3.1.0,>=3.0.41->ipython>=5.5.0->pycaret) (0.2.5)\n",
      "Requirement already satisfied: executing in c:\\users\\nasru\\anaconda3\\envs\\data_science\\lib\\site-packages (from stack-data->ipython>=5.5.0->pycaret) (0.8.3)\n",
      "Requirement already satisfied: asttokens in c:\\users\\nasru\\anaconda3\\envs\\data_science\\lib\\site-packages (from stack-data->ipython>=5.5.0->pycaret) (2.0.5)\n",
      "Requirement already satisfied: pure-eval in c:\\users\\nasru\\anaconda3\\envs\\data_science\\lib\\site-packages (from stack-data->ipython>=5.5.0->pycaret) (0.2.2)\n",
      "Requirement already satisfied: itsdangerous>=2.1.2 in c:\\users\\nasru\\anaconda3\\envs\\data_science\\lib\\site-packages (from Flask<3.1,>=1.0.4->dash>=2.9.0->plotly-resampler>=0.8.3.1->pycaret) (2.2.0)\n",
      "Requirement already satisfied: click>=8.1.3 in c:\\users\\nasru\\anaconda3\\envs\\data_science\\lib\\site-packages (from Flask<3.1,>=1.0.4->dash>=2.9.0->plotly-resampler>=0.8.3.1->pycaret) (8.1.7)\n",
      "Requirement already satisfied: blinker>=1.6.2 in c:\\users\\nasru\\anaconda3\\envs\\data_science\\lib\\site-packages (from Flask<3.1,>=1.0.4->dash>=2.9.0->plotly-resampler>=0.8.3.1->pycaret) (1.8.2)\n"
     ]
    }
   ],
   "source": [
    "\n",
    "# Install required libraries\n",
    "!pip install pycaret joblib tldextract plotly\n",
    "\n",
    "# Import libraries\n",
    "import pandas as pd\n",
    "import numpy as np\n",
    "import matplotlib.pyplot as plt\n",
    "import seaborn as sns\n",
    "import tldextract\n",
    "import joblib\n",
    "from pycaret.classification import *\n",
    "from urllib.parse import urlparse\n",
    "import plotly.express as px\n"
   ]
  },
  {
   "cell_type": "markdown",
   "id": "a41decf8-f0a0-41a6-80ad-7dadeebf562e",
   "metadata": {},
   "source": [
    "# Step 2: Load Dataset"
   ]
  },
  {
   "cell_type": "code",
   "execution_count": 2,
   "id": "254bf8dd-b707-4287-ae21-34f53b08a462",
   "metadata": {},
   "outputs": [
    {
     "data": {
      "text/html": [
       "<div>\n",
       "<style scoped>\n",
       "    .dataframe tbody tr th:only-of-type {\n",
       "        vertical-align: middle;\n",
       "    }\n",
       "\n",
       "    .dataframe tbody tr th {\n",
       "        vertical-align: top;\n",
       "    }\n",
       "\n",
       "    .dataframe thead th {\n",
       "        text-align: right;\n",
       "    }\n",
       "</style>\n",
       "<table border=\"1\" class=\"dataframe\">\n",
       "  <thead>\n",
       "    <tr style=\"text-align: right;\">\n",
       "      <th></th>\n",
       "      <th>url</th>\n",
       "      <th>type</th>\n",
       "    </tr>\n",
       "  </thead>\n",
       "  <tbody>\n",
       "    <tr>\n",
       "      <th>0</th>\n",
       "      <td>br-icloud.com.br</td>\n",
       "      <td>phishing</td>\n",
       "    </tr>\n",
       "    <tr>\n",
       "      <th>1</th>\n",
       "      <td>mp3raid.com/music/krizz_kaliko.html</td>\n",
       "      <td>benign</td>\n",
       "    </tr>\n",
       "    <tr>\n",
       "      <th>2</th>\n",
       "      <td>bopsecrets.org/rexroth/cr/1.htm</td>\n",
       "      <td>benign</td>\n",
       "    </tr>\n",
       "    <tr>\n",
       "      <th>3</th>\n",
       "      <td>http://www.garage-pirenne.be/index.php?option=...</td>\n",
       "      <td>defacement</td>\n",
       "    </tr>\n",
       "    <tr>\n",
       "      <th>4</th>\n",
       "      <td>http://adventure-nicaragua.net/index.php?optio...</td>\n",
       "      <td>defacement</td>\n",
       "    </tr>\n",
       "  </tbody>\n",
       "</table>\n",
       "</div>"
      ],
      "text/plain": [
       "                                                 url        type\n",
       "0                                   br-icloud.com.br    phishing\n",
       "1                mp3raid.com/music/krizz_kaliko.html      benign\n",
       "2                    bopsecrets.org/rexroth/cr/1.htm      benign\n",
       "3  http://www.garage-pirenne.be/index.php?option=...  defacement\n",
       "4  http://adventure-nicaragua.net/index.php?optio...  defacement"
      ]
     },
     "execution_count": 2,
     "metadata": {},
     "output_type": "execute_result"
    }
   ],
   "source": [
    "# Load data\n",
    "data = pd.read_csv('malicious_phish.csv')\n",
    "data.head()\n"
   ]
  },
  {
   "cell_type": "markdown",
   "id": "2b6ca8f5-645a-4659-a44b-fa3d3a0d02a7",
   "metadata": {},
   "source": [
    "# Step 3: Exploratory Data Analysis (EDA)"
   ]
  },
  {
   "cell_type": "markdown",
   "id": "a0ecb45c-7fd7-4747-bcae-e239cc971784",
   "metadata": {},
   "source": [
    "## Dataset Information\n"
   ]
  },
  {
   "cell_type": "code",
   "execution_count": 3,
   "id": "b59d0408-a712-4eee-97cc-c92b237c98d4",
   "metadata": {},
   "outputs": [
    {
     "name": "stdout",
     "output_type": "stream",
     "text": [
      "<class 'pandas.core.frame.DataFrame'>\n",
      "RangeIndex: 651191 entries, 0 to 651190\n",
      "Data columns (total 2 columns):\n",
      " #   Column  Non-Null Count   Dtype \n",
      "---  ------  --------------   ----- \n",
      " 0   url     651191 non-null  object\n",
      " 1   type    651191 non-null  object\n",
      "dtypes: object(2)\n",
      "memory usage: 9.9+ MB\n"
     ]
    },
    {
     "data": {
      "text/html": [
       "<div>\n",
       "<style scoped>\n",
       "    .dataframe tbody tr th:only-of-type {\n",
       "        vertical-align: middle;\n",
       "    }\n",
       "\n",
       "    .dataframe tbody tr th {\n",
       "        vertical-align: top;\n",
       "    }\n",
       "\n",
       "    .dataframe thead th {\n",
       "        text-align: right;\n",
       "    }\n",
       "</style>\n",
       "<table border=\"1\" class=\"dataframe\">\n",
       "  <thead>\n",
       "    <tr style=\"text-align: right;\">\n",
       "      <th></th>\n",
       "      <th>url</th>\n",
       "      <th>type</th>\n",
       "    </tr>\n",
       "  </thead>\n",
       "  <tbody>\n",
       "    <tr>\n",
       "      <th>count</th>\n",
       "      <td>651191</td>\n",
       "      <td>651191</td>\n",
       "    </tr>\n",
       "    <tr>\n",
       "      <th>unique</th>\n",
       "      <td>641119</td>\n",
       "      <td>4</td>\n",
       "    </tr>\n",
       "    <tr>\n",
       "      <th>top</th>\n",
       "      <td>http://style.org.hc360.com/css/detail/mysite/s...</td>\n",
       "      <td>benign</td>\n",
       "    </tr>\n",
       "    <tr>\n",
       "      <th>freq</th>\n",
       "      <td>180</td>\n",
       "      <td>428103</td>\n",
       "    </tr>\n",
       "  </tbody>\n",
       "</table>\n",
       "</div>"
      ],
      "text/plain": [
       "                                                      url    type\n",
       "count                                              651191  651191\n",
       "unique                                             641119       4\n",
       "top     http://style.org.hc360.com/css/detail/mysite/s...  benign\n",
       "freq                                                  180  428103"
      ]
     },
     "execution_count": 3,
     "metadata": {},
     "output_type": "execute_result"
    }
   ],
   "source": [
    "data.info()\n",
    "data.describe()\n"
   ]
  },
  {
   "cell_type": "markdown",
   "id": "1d6599d4-e122-4fa7-aadf-5987345656b2",
   "metadata": {},
   "source": [
    "## Missing Values Check\n"
   ]
  },
  {
   "cell_type": "code",
   "execution_count": 4,
   "id": "30c6c622-ea61-46f5-aed8-2f8d36cc983f",
   "metadata": {},
   "outputs": [
    {
     "data": {
      "text/plain": [
       "url     0\n",
       "type    0\n",
       "dtype: int64"
      ]
     },
     "execution_count": 4,
     "metadata": {},
     "output_type": "execute_result"
    }
   ],
   "source": [
    "data.isnull().sum()\n"
   ]
  },
  {
   "cell_type": "markdown",
   "id": "b81fddb7-ebbf-4050-ad42-b6e2d4611204",
   "metadata": {},
   "source": [
    "## Class Distribution\n"
   ]
  },
  {
   "cell_type": "code",
   "execution_count": 5,
   "id": "14076e39-703e-401a-bec4-4b72c9a9f3a7",
   "metadata": {},
   "outputs": [
    {
     "data": {
      "image/png": "[encoded data removed]",
      "text/plain": [
       "<Figure size 800x550 with 1 Axes>"
      ]
     },
     "metadata": {},
     "output_type": "display_data"
    }
   ],
   "source": [
    "sns.countplot(x='type', data=data)\n",
    "plt.title('Distribution of URL Types')\n",
    "plt.xlabel('Type')\n",
    "plt.ylabel('Count')\n",
    "plt.show()\n"
   ]
  },
  {
   "cell_type": "markdown",
   "id": "16de6b20-5351-450e-9bc0-effd3106d8cc",
   "metadata": {},
   "source": [
    "## Step 4: Feature Engineering\n"
   ]
  },
  {
   "cell_type": "markdown",
   "id": "4bb366ae-6d4d-415e-9d22-4a318d33ba91",
   "metadata": {},
   "source": [
    "## URL Length\n"
   ]
  },
  {
   "cell_type": "code",
   "execution_count": 6,
   "id": "56c42d1c-d939-4619-9219-110a29a8687d",
   "metadata": {},
   "outputs": [],
   "source": [
    "data['url_length'] = data['url'].apply(lambda x: len(x))"
   ]
  },
  {
   "cell_type": "markdown",
   "id": "ded70a8b-7d8a-4809-bd40-02332d8065e2",
   "metadata": {},
   "source": [
    "## Domain Extraction\n"
   ]
  },
  {
   "cell_type": "code",
   "execution_count": 7,
   "id": "234cea3b-651d-4f81-94e8-a3ace3fd5990",
   "metadata": {},
   "outputs": [],
   "source": [
    "data['domain'] = data['url'].apply(lambda x: tldextract.extract(x).domain)\n"
   ]
  },
  {
   "cell_type": "markdown",
   "id": "7e51ee29-2d19-4223-a2e5-cd6d314d353e",
   "metadata": {},
   "source": [
    "## Special Character Counts\n"
   ]
  },
  {
   "cell_type": "code",
   "execution_count": 8,
   "id": "38d0ab75-2cdf-44bf-98d2-897dcb6b96fb",
   "metadata": {},
   "outputs": [],
   "source": [
    "def count_special_chars(url):\n",
    "    return sum(1 for char in url if not char.isalnum())\n",
    "\n",
    "data['special_char_count'] = data['url'].apply(count_special_chars)\n"
   ]
  },
  {
   "cell_type": "markdown",
   "id": "3376cefe-a30c-4e79-9ca5-5b5b0a72d7e0",
   "metadata": {},
   "source": [
    "## HTTPS Indicator\n",
    "\n"
   ]
  },
  {
   "cell_type": "code",
   "execution_count": 9,
   "id": "be26204a-01cf-4f67-a95a-1b164635d779",
   "metadata": {},
   "outputs": [],
   "source": [
    "data['is_https'] = data['url'].apply(lambda x: 1 if urlparse(x).scheme == 'https' else 0)\n"
   ]
  },
  {
   "cell_type": "markdown",
   "id": "38d1fe30-c097-4c5c-b3c7-dfd04d41b30b",
   "metadata": {},
   "source": [
    "## Digit and Letter Counts\n"
   ]
  },
  {
   "cell_type": "code",
   "execution_count": 10,
   "id": "8e520bf1-5009-4cef-a68d-78c89b1a9587",
   "metadata": {},
   "outputs": [],
   "source": [
    "data['digit_count'] = data['url'].apply(lambda x: sum(c.isdigit() for c in x))\n",
    "data['letter_count'] = data['url'].apply(lambda x: sum(c.isalpha() for c in x))\n"
   ]
  },
  {
   "cell_type": "markdown",
   "id": "8629be77-b8c8-47a2-8dc9-8fdd3e989658",
   "metadata": {},
   "source": [
    "# Step 5: Data Preprocessing\n",
    "## Encode Target Labels\n",
    "* Map benign as 0, phishing as 1, defacement as 2, malware as 3."
   ]
  },
  {
   "cell_type": "code",
   "execution_count": 11,
   "id": "23080ed6-870a-44c9-acd8-9acf884f1723",
   "metadata": {},
   "outputs": [],
   "source": [
    "type_mapping = {'benign': 0, 'phishing': 1, 'defacement': 2, 'malware': 3}\n",
    "data['type'] = data['type'].map(type_mapping)"
   ]
  },
  {
   "cell_type": "markdown",
   "id": "e05bb2c5-5b68-415b-8d5b-e403231862b3",
   "metadata": {},
   "source": [
    "## Split Dataset"
   ]
  },
  {
   "cell_type": "code",
   "execution_count": 12,
   "id": "45748f0a-ab7f-47ae-b578-c4e0beb50978",
   "metadata": {},
   "outputs": [],
   "source": [
    "from sklearn.model_selection import train_test_split\n",
    "X = data.drop(columns=['type', 'url', 'domain'])\n",
    "y = data['type']\n",
    "X_train, X_test, y_train, y_test = train_test_split(X, y, test_size=0.2, random_state=42)"
   ]
  },
  {
   "cell_type": "markdown",
   "id": "b2c09d6c-b8d7-46b3-8a1c-178dd0c69455",
   "metadata": {},
   "source": [
    "## Step 6: Modeling with PyCaret\n"
   ]
  },
  {
   "cell_type": "markdown",
   "id": "67e1f6af-0c5f-4ccd-80c1-dd61c770a57c",
   "metadata": {},
   "source": [
    "## Initialize PyCaret Setup"
   ]
  },
  {
   "cell_type": "code",
   "execution_count": 22,
   "id": "0afed4eb-161d-4dbc-ae85-f4925d193183",
   "metadata": {},
   "outputs": [
    {
     "data": {
      "text/html": [
       "<style type=\"text/css\">\n",
       "#T_91d9d_row9_col1 {\n",
       "  background-color: lightgreen;\n",
       "}\n",
       "</style>\n",
       "<table id=\"T_91d9d\">\n",
       "  <thead>\n",
       "    <tr>\n",
       "      <th class=\"blank level0\" >&nbsp;</th>\n",
       "      <th id=\"T_91d9d_level0_col0\" class=\"col_heading level0 col0\" >Description</th>\n",
       "      <th id=\"T_91d9d_level0_col1\" class=\"col_heading level0 col1\" >Value</th>\n",
       "    </tr>\n",
       "  </thead>\n",
       "  <tbody>\n",
       "    <tr>\n",
       "      <th id=\"T_91d9d_level0_row0\" class=\"row_heading level0 row0\" >0</th>\n",
       "      <td id=\"T_91d9d_row0_col0\" class=\"data row0 col0\" >Session id</td>\n",
       "      <td id=\"T_91d9d_row0_col1\" class=\"data row0 col1\" >123</td>\n",
       "    </tr>\n",
       "    <tr>\n",
       "      <th id=\"T_91d9d_level0_row1\" class=\"row_heading level0 row1\" >1</th>\n",
       "      <td id=\"T_91d9d_row1_col0\" class=\"data row1 col0\" >Target</td>\n",
       "      <td id=\"T_91d9d_row1_col1\" class=\"data row1 col1\" >type</td>\n",
       "    </tr>\n",
       "    <tr>\n",
       "      <th id=\"T_91d9d_level0_row2\" class=\"row_heading level0 row2\" >2</th>\n",
       "      <td id=\"T_91d9d_row2_col0\" class=\"data row2 col0\" >Target type</td>\n",
       "      <td id=\"T_91d9d_row2_col1\" class=\"data row2 col1\" >Multiclass</td>\n",
       "    </tr>\n",
       "    <tr>\n",
       "      <th id=\"T_91d9d_level0_row3\" class=\"row_heading level0 row3\" >3</th>\n",
       "      <td id=\"T_91d9d_row3_col0\" class=\"data row3 col0\" >Original data shape</td>\n",
       "      <td id=\"T_91d9d_row3_col1\" class=\"data row3 col1\" >(651191, 8)</td>\n",
       "    </tr>\n",
       "    <tr>\n",
       "      <th id=\"T_91d9d_level0_row4\" class=\"row_heading level0 row4\" >4</th>\n",
       "      <td id=\"T_91d9d_row4_col0\" class=\"data row4 col0\" >Transformed data shape</td>\n",
       "      <td id=\"T_91d9d_row4_col1\" class=\"data row4 col1\" >(651191, 8)</td>\n",
       "    </tr>\n",
       "    <tr>\n",
       "      <th id=\"T_91d9d_level0_row5\" class=\"row_heading level0 row5\" >5</th>\n",
       "      <td id=\"T_91d9d_row5_col0\" class=\"data row5 col0\" >Transformed train set shape</td>\n",
       "      <td id=\"T_91d9d_row5_col1\" class=\"data row5 col1\" >(455833, 8)</td>\n",
       "    </tr>\n",
       "    <tr>\n",
       "      <th id=\"T_91d9d_level0_row6\" class=\"row_heading level0 row6\" >6</th>\n",
       "      <td id=\"T_91d9d_row6_col0\" class=\"data row6 col0\" >Transformed test set shape</td>\n",
       "      <td id=\"T_91d9d_row6_col1\" class=\"data row6 col1\" >(195358, 8)</td>\n",
       "    </tr>\n",
       "    <tr>\n",
       "      <th id=\"T_91d9d_level0_row7\" class=\"row_heading level0 row7\" >7</th>\n",
       "      <td id=\"T_91d9d_row7_col0\" class=\"data row7 col0\" >Numeric features</td>\n",
       "      <td id=\"T_91d9d_row7_col1\" class=\"data row7 col1\" >5</td>\n",
       "    </tr>\n",
       "    <tr>\n",
       "      <th id=\"T_91d9d_level0_row8\" class=\"row_heading level0 row8\" >8</th>\n",
       "      <td id=\"T_91d9d_row8_col0\" class=\"data row8 col0\" >Categorical features</td>\n",
       "      <td id=\"T_91d9d_row8_col1\" class=\"data row8 col1\" >2</td>\n",
       "    </tr>\n",
       "    <tr>\n",
       "      <th id=\"T_91d9d_level0_row9\" class=\"row_heading level0 row9\" >9</th>\n",
       "      <td id=\"T_91d9d_row9_col0\" class=\"data row9 col0\" >Preprocess</td>\n",
       "      <td id=\"T_91d9d_row9_col1\" class=\"data row9 col1\" >True</td>\n",
       "    </tr>\n",
       "    <tr>\n",
       "      <th id=\"T_91d9d_level0_row10\" class=\"row_heading level0 row10\" >10</th>\n",
       "      <td id=\"T_91d9d_row10_col0\" class=\"data row10 col0\" >Imputation type</td>\n",
       "      <td id=\"T_91d9d_row10_col1\" class=\"data row10 col1\" >simple</td>\n",
       "    </tr>\n",
       "    <tr>\n",
       "      <th id=\"T_91d9d_level0_row11\" class=\"row_heading level0 row11\" >11</th>\n",
       "      <td id=\"T_91d9d_row11_col0\" class=\"data row11 col0\" >Numeric imputation</td>\n",
       "      <td id=\"T_91d9d_row11_col1\" class=\"data row11 col1\" >mean</td>\n",
       "    </tr>\n",
       "    <tr>\n",
       "      <th id=\"T_91d9d_level0_row12\" class=\"row_heading level0 row12\" >12</th>\n",
       "      <td id=\"T_91d9d_row12_col0\" class=\"data row12 col0\" >Categorical imputation</td>\n",
       "      <td id=\"T_91d9d_row12_col1\" class=\"data row12 col1\" >mode</td>\n",
       "    </tr>\n",
       "    <tr>\n",
       "      <th id=\"T_91d9d_level0_row13\" class=\"row_heading level0 row13\" >13</th>\n",
       "      <td id=\"T_91d9d_row13_col0\" class=\"data row13 col0\" >Maximum one-hot encoding</td>\n",
       "      <td id=\"T_91d9d_row13_col1\" class=\"data row13 col1\" >25</td>\n",
       "    </tr>\n",
       "    <tr>\n",
       "      <th id=\"T_91d9d_level0_row14\" class=\"row_heading level0 row14\" >14</th>\n",
       "      <td id=\"T_91d9d_row14_col0\" class=\"data row14 col0\" >Encoding method</td>\n",
       "      <td id=\"T_91d9d_row14_col1\" class=\"data row14 col1\" >None</td>\n",
       "    </tr>\n",
       "    <tr>\n",
       "      <th id=\"T_91d9d_level0_row15\" class=\"row_heading level0 row15\" >15</th>\n",
       "      <td id=\"T_91d9d_row15_col0\" class=\"data row15 col0\" >Fold Generator</td>\n",
       "      <td id=\"T_91d9d_row15_col1\" class=\"data row15 col1\" >StratifiedKFold</td>\n",
       "    </tr>\n",
       "    <tr>\n",
       "      <th id=\"T_91d9d_level0_row16\" class=\"row_heading level0 row16\" >16</th>\n",
       "      <td id=\"T_91d9d_row16_col0\" class=\"data row16 col0\" >Fold Number</td>\n",
       "      <td id=\"T_91d9d_row16_col1\" class=\"data row16 col1\" >10</td>\n",
       "    </tr>\n",
       "    <tr>\n",
       "      <th id=\"T_91d9d_level0_row17\" class=\"row_heading level0 row17\" >17</th>\n",
       "      <td id=\"T_91d9d_row17_col0\" class=\"data row17 col0\" >CPU Jobs</td>\n",
       "      <td id=\"T_91d9d_row17_col1\" class=\"data row17 col1\" >-1</td>\n",
       "    </tr>\n",
       "    <tr>\n",
       "      <th id=\"T_91d9d_level0_row18\" class=\"row_heading level0 row18\" >18</th>\n",
       "      <td id=\"T_91d9d_row18_col0\" class=\"data row18 col0\" >Use GPU</td>\n",
       "      <td id=\"T_91d9d_row18_col1\" class=\"data row18 col1\" >False</td>\n",
       "    </tr>\n",
       "    <tr>\n",
       "      <th id=\"T_91d9d_level0_row19\" class=\"row_heading level0 row19\" >19</th>\n",
       "      <td id=\"T_91d9d_row19_col0\" class=\"data row19 col0\" >Log Experiment</td>\n",
       "      <td id=\"T_91d9d_row19_col1\" class=\"data row19 col1\" >False</td>\n",
       "    </tr>\n",
       "    <tr>\n",
       "      <th id=\"T_91d9d_level0_row20\" class=\"row_heading level0 row20\" >20</th>\n",
       "      <td id=\"T_91d9d_row20_col0\" class=\"data row20 col0\" >Experiment Name</td>\n",
       "      <td id=\"T_91d9d_row20_col1\" class=\"data row20 col1\" >clf-default-name</td>\n",
       "    </tr>\n",
       "    <tr>\n",
       "      <th id=\"T_91d9d_level0_row21\" class=\"row_heading level0 row21\" >21</th>\n",
       "      <td id=\"T_91d9d_row21_col0\" class=\"data row21 col0\" >USI</td>\n",
       "      <td id=\"T_91d9d_row21_col1\" class=\"data row21 col1\" >c3c0</td>\n",
       "    </tr>\n",
       "  </tbody>\n",
       "</table>\n"
      ],
      "text/plain": [
       "<pandas.io.formats.style.Styler at 0x2a54ba17910>"
      ]
     },
     "metadata": {},
     "output_type": "display_data"
    }
   ],
   "source": [
    "clf = setup(data=data, target='type', session_id=123, log_experiment=False)"
   ]
  },
  {
   "cell_type": "markdown",
   "id": "4fc7ec71-1fc0-4317-b6d9-a311fd0c820d",
   "metadata": {},
   "source": [
    "## Compare Models\n",
    "\n"
   ]
  },
  {
   "cell_type": "code",
   "execution_count": 19,
   "id": "ad59351d-baf9-43dc-b0dd-8aafe22864af",
   "metadata": {},
   "outputs": [
    {
     "data": {
      "text/html": [],
      "text/plain": [
       "<IPython.core.display.HTML object>"
      ]
     },
     "metadata": {},
     "output_type": "display_data"
    },
    {
     "data": {
      "text/html": [
       "<style type=\"text/css\">\n",
       "#T_2b79a th {\n",
       "  text-align: left;\n",
       "}\n",
       "#T_2b79a_row0_col0, #T_2b79a_row0_col2, #T_2b79a_row0_col4, #T_2b79a_row0_col5, #T_2b79a_row0_col6, #T_2b79a_row0_col7, #T_2b79a_row1_col0, #T_2b79a_row1_col1, #T_2b79a_row1_col2, #T_2b79a_row1_col3, #T_2b79a_row1_col4, #T_2b79a_row1_col5, #T_2b79a_row1_col6, #T_2b79a_row1_col7, #T_2b79a_row2_col0, #T_2b79a_row2_col1, #T_2b79a_row2_col3, #T_2b79a_row3_col0, #T_2b79a_row3_col1, #T_2b79a_row3_col2, #T_2b79a_row3_col3, #T_2b79a_row3_col4, #T_2b79a_row3_col5, #T_2b79a_row3_col6, #T_2b79a_row3_col7, #T_2b79a_row4_col0, #T_2b79a_row4_col1, #T_2b79a_row4_col2, #T_2b79a_row4_col3, #T_2b79a_row4_col4, #T_2b79a_row4_col5, #T_2b79a_row4_col6, #T_2b79a_row4_col7, #T_2b79a_row5_col0, #T_2b79a_row5_col1, #T_2b79a_row5_col2, #T_2b79a_row5_col3, #T_2b79a_row5_col4, #T_2b79a_row5_col5, #T_2b79a_row5_col6, #T_2b79a_row5_col7, #T_2b79a_row6_col0, #T_2b79a_row6_col1, #T_2b79a_row6_col2, #T_2b79a_row6_col3, #T_2b79a_row6_col4, #T_2b79a_row6_col5, #T_2b79a_row6_col6, #T_2b79a_row6_col7, #T_2b79a_row7_col0, #T_2b79a_row7_col1, #T_2b79a_row7_col2, #T_2b79a_row7_col3, #T_2b79a_row7_col4, #T_2b79a_row7_col5, #T_2b79a_row7_col6, #T_2b79a_row7_col7, #T_2b79a_row8_col0, #T_2b79a_row8_col1, #T_2b79a_row8_col2, #T_2b79a_row8_col3, #T_2b79a_row8_col4, #T_2b79a_row8_col5, #T_2b79a_row8_col6, #T_2b79a_row8_col7, #T_2b79a_row9_col0, #T_2b79a_row9_col1, #T_2b79a_row9_col2, #T_2b79a_row9_col3, #T_2b79a_row9_col4, #T_2b79a_row9_col5, #T_2b79a_row9_col6, #T_2b79a_row9_col7, #T_2b79a_row10_col0, #T_2b79a_row10_col1, #T_2b79a_row10_col2, #T_2b79a_row10_col3, #T_2b79a_row10_col4, #T_2b79a_row10_col5, #T_2b79a_row10_col6, #T_2b79a_row10_col7, #T_2b79a_row11_col0, #T_2b79a_row11_col1, #T_2b79a_row11_col2, #T_2b79a_row11_col3, #T_2b79a_row11_col4, #T_2b79a_row11_col5, #T_2b79a_row11_col6, #T_2b79a_row11_col7, #T_2b79a_row12_col0, #T_2b79a_row12_col1, #T_2b79a_row12_col2, #T_2b79a_row12_col3, #T_2b79a_row12_col4, #T_2b79a_row12_col5, #T_2b79a_row12_col6, #T_2b79a_row12_col7, #T_2b79a_row13_col0, #T_2b79a_row13_col1, #T_2b79a_row13_col2, #T_2b79a_row13_col3, #T_2b79a_row13_col4, #T_2b79a_row13_col5, #T_2b79a_row13_col6, #T_2b79a_row13_col7 {\n",
       "  text-align: left;\n",
       "}\n",
       "#T_2b79a_row0_col1, #T_2b79a_row0_col3, #T_2b79a_row2_col2, #T_2b79a_row2_col4, #T_2b79a_row2_col5, #T_2b79a_row2_col6, #T_2b79a_row2_col7 {\n",
       "  text-align: left;\n",
       "  background-color: yellow;\n",
       "}\n",
       "#T_2b79a_row0_col8, #T_2b79a_row1_col8, #T_2b79a_row2_col8, #T_2b79a_row3_col8, #T_2b79a_row4_col8, #T_2b79a_row5_col8, #T_2b79a_row7_col8, #T_2b79a_row8_col8, #T_2b79a_row9_col8, #T_2b79a_row10_col8, #T_2b79a_row11_col8, #T_2b79a_row12_col8, #T_2b79a_row13_col8 {\n",
       "  text-align: left;\n",
       "  background-color: lightgrey;\n",
       "}\n",
       "#T_2b79a_row6_col8 {\n",
       "  text-align: left;\n",
       "  background-color: yellow;\n",
       "  background-color: lightgrey;\n",
       "}\n",
       "</style>\n",
       "<table id=\"T_2b79a\">\n",
       "  <thead>\n",
       "    <tr>\n",
       "      <th class=\"blank level0\" >&nbsp;</th>\n",
       "      <th id=\"T_2b79a_level0_col0\" class=\"col_heading level0 col0\" >Model</th>\n",
       "      <th id=\"T_2b79a_level0_col1\" class=\"col_heading level0 col1\" >Accuracy</th>\n",
       "      <th id=\"T_2b79a_level0_col2\" class=\"col_heading level0 col2\" >AUC</th>\n",
       "      <th id=\"T_2b79a_level0_col3\" class=\"col_heading level0 col3\" >Recall</th>\n",
       "      <th id=\"T_2b79a_level0_col4\" class=\"col_heading level0 col4\" >Prec.</th>\n",
       "      <th id=\"T_2b79a_level0_col5\" class=\"col_heading level0 col5\" >F1</th>\n",
       "      <th id=\"T_2b79a_level0_col6\" class=\"col_heading level0 col6\" >Kappa</th>\n",
       "      <th id=\"T_2b79a_level0_col7\" class=\"col_heading level0 col7\" >MCC</th>\n",
       "      <th id=\"T_2b79a_level0_col8\" class=\"col_heading level0 col8\" >TT (Sec)</th>\n",
       "    </tr>\n",
       "  </thead>\n",
       "  <tbody>\n",
       "    <tr>\n",
       "      <th id=\"T_2b79a_level0_row0\" class=\"row_heading level0 row0\" >lda</th>\n",
       "      <td id=\"T_2b79a_row0_col0\" class=\"data row0 col0\" >Linear Discriminant Analysis</td>\n",
       "      <td id=\"T_2b79a_row0_col1\" class=\"data row0 col1\" >0.8231</td>\n",
       "      <td id=\"T_2b79a_row0_col2\" class=\"data row0 col2\" >0.0000</td>\n",
       "      <td id=\"T_2b79a_row0_col3\" class=\"data row0 col3\" >0.8231</td>\n",
       "      <td id=\"T_2b79a_row0_col4\" class=\"data row0 col4\" >0.7982</td>\n",
       "      <td id=\"T_2b79a_row0_col5\" class=\"data row0 col5\" >0.7790</td>\n",
       "      <td id=\"T_2b79a_row0_col6\" class=\"data row0 col6\" >0.6043</td>\n",
       "      <td id=\"T_2b79a_row0_col7\" class=\"data row0 col7\" >0.6411</td>\n",
       "      <td id=\"T_2b79a_row0_col8\" class=\"data row0 col8\" >1.1380</td>\n",
       "    </tr>\n",
       "    <tr>\n",
       "      <th id=\"T_2b79a_level0_row1\" class=\"row_heading level0 row1\" >ridge</th>\n",
       "      <td id=\"T_2b79a_row1_col0\" class=\"data row1 col0\" >Ridge Classifier</td>\n",
       "      <td id=\"T_2b79a_row1_col1\" class=\"data row1 col1\" >0.7971</td>\n",
       "      <td id=\"T_2b79a_row1_col2\" class=\"data row1 col2\" >0.0000</td>\n",
       "      <td id=\"T_2b79a_row1_col3\" class=\"data row1 col3\" >0.7971</td>\n",
       "      <td id=\"T_2b79a_row1_col4\" class=\"data row1 col4\" >0.7801</td>\n",
       "      <td id=\"T_2b79a_row1_col5\" class=\"data row1 col5\" >0.7194</td>\n",
       "      <td id=\"T_2b79a_row1_col6\" class=\"data row1 col6\" >0.5237</td>\n",
       "      <td id=\"T_2b79a_row1_col7\" class=\"data row1 col7\" >0.5890</td>\n",
       "      <td id=\"T_2b79a_row1_col8\" class=\"data row1 col8\" >1.1320</td>\n",
       "    </tr>\n",
       "    <tr>\n",
       "      <th id=\"T_2b79a_level0_row2\" class=\"row_heading level0 row2\" >knn</th>\n",
       "      <td id=\"T_2b79a_row2_col0\" class=\"data row2 col0\" >K Neighbors Classifier</td>\n",
       "      <td id=\"T_2b79a_row2_col1\" class=\"data row2 col1\" >0.7696</td>\n",
       "      <td id=\"T_2b79a_row2_col2\" class=\"data row2 col2\" >0.8716</td>\n",
       "      <td id=\"T_2b79a_row2_col3\" class=\"data row2 col3\" >0.7696</td>\n",
       "      <td id=\"T_2b79a_row2_col4\" class=\"data row2 col4\" >0.8644</td>\n",
       "      <td id=\"T_2b79a_row2_col5\" class=\"data row2 col5\" >0.7947</td>\n",
       "      <td id=\"T_2b79a_row2_col6\" class=\"data row2 col6\" >0.6179</td>\n",
       "      <td id=\"T_2b79a_row2_col7\" class=\"data row2 col7\" >0.6494</td>\n",
       "      <td id=\"T_2b79a_row2_col8\" class=\"data row2 col8\" >2.0970</td>\n",
       "    </tr>\n",
       "    <tr>\n",
       "      <th id=\"T_2b79a_level0_row3\" class=\"row_heading level0 row3\" >svm</th>\n",
       "      <td id=\"T_2b79a_row3_col0\" class=\"data row3 col0\" >SVM - Linear Kernel</td>\n",
       "      <td id=\"T_2b79a_row3_col1\" class=\"data row3 col1\" >0.7620</td>\n",
       "      <td id=\"T_2b79a_row3_col2\" class=\"data row3 col2\" >0.0000</td>\n",
       "      <td id=\"T_2b79a_row3_col3\" class=\"data row3 col3\" >0.7620</td>\n",
       "      <td id=\"T_2b79a_row3_col4\" class=\"data row3 col4\" >0.8284</td>\n",
       "      <td id=\"T_2b79a_row3_col5\" class=\"data row3 col5\" >0.7659</td>\n",
       "      <td id=\"T_2b79a_row3_col6\" class=\"data row3 col6\" >0.5597</td>\n",
       "      <td id=\"T_2b79a_row3_col7\" class=\"data row3 col7\" >0.5785</td>\n",
       "      <td id=\"T_2b79a_row3_col8\" class=\"data row3 col8\" >9.9930</td>\n",
       "    </tr>\n",
       "    <tr>\n",
       "      <th id=\"T_2b79a_level0_row4\" class=\"row_heading level0 row4\" >lr</th>\n",
       "      <td id=\"T_2b79a_row4_col0\" class=\"data row4 col0\" >Logistic Regression</td>\n",
       "      <td id=\"T_2b79a_row4_col1\" class=\"data row4 col1\" >0.7422</td>\n",
       "      <td id=\"T_2b79a_row4_col2\" class=\"data row4 col2\" >0.0000</td>\n",
       "      <td id=\"T_2b79a_row4_col3\" class=\"data row4 col3\" >0.7422</td>\n",
       "      <td id=\"T_2b79a_row4_col4\" class=\"data row4 col4\" >0.8555</td>\n",
       "      <td id=\"T_2b79a_row4_col5\" class=\"data row4 col5\" >0.7653</td>\n",
       "      <td id=\"T_2b79a_row4_col6\" class=\"data row4 col6\" >0.5791</td>\n",
       "      <td id=\"T_2b79a_row4_col7\" class=\"data row4 col7\" >0.6148</td>\n",
       "      <td id=\"T_2b79a_row4_col8\" class=\"data row4 col8\" >14.5080</td>\n",
       "    </tr>\n",
       "    <tr>\n",
       "      <th id=\"T_2b79a_level0_row5\" class=\"row_heading level0 row5\" >dt</th>\n",
       "      <td id=\"T_2b79a_row5_col0\" class=\"data row5 col0\" >Decision Tree Classifier</td>\n",
       "      <td id=\"T_2b79a_row5_col1\" class=\"data row5 col1\" >0.6746</td>\n",
       "      <td id=\"T_2b79a_row5_col2\" class=\"data row5 col2\" >0.5266</td>\n",
       "      <td id=\"T_2b79a_row5_col3\" class=\"data row5 col3\" >0.6746</td>\n",
       "      <td id=\"T_2b79a_row5_col4\" class=\"data row5 col4\" >0.7256</td>\n",
       "      <td id=\"T_2b79a_row5_col5\" class=\"data row5 col5\" >0.5544</td>\n",
       "      <td id=\"T_2b79a_row5_col6\" class=\"data row5 col6\" >0.0778</td>\n",
       "      <td id=\"T_2b79a_row5_col7\" class=\"data row5 col7\" >0.2061</td>\n",
       "      <td id=\"T_2b79a_row5_col8\" class=\"data row5 col8\" >1.1550</td>\n",
       "    </tr>\n",
       "    <tr>\n",
       "      <th id=\"T_2b79a_level0_row6\" class=\"row_heading level0 row6\" >dummy</th>\n",
       "      <td id=\"T_2b79a_row6_col0\" class=\"data row6 col0\" >Dummy Classifier</td>\n",
       "      <td id=\"T_2b79a_row6_col1\" class=\"data row6 col1\" >0.6574</td>\n",
       "      <td id=\"T_2b79a_row6_col2\" class=\"data row6 col2\" >0.5000</td>\n",
       "      <td id=\"T_2b79a_row6_col3\" class=\"data row6 col3\" >0.6574</td>\n",
       "      <td id=\"T_2b79a_row6_col4\" class=\"data row6 col4\" >0.4322</td>\n",
       "      <td id=\"T_2b79a_row6_col5\" class=\"data row6 col5\" >0.5215</td>\n",
       "      <td id=\"T_2b79a_row6_col6\" class=\"data row6 col6\" >0.0000</td>\n",
       "      <td id=\"T_2b79a_row6_col7\" class=\"data row6 col7\" >0.0000</td>\n",
       "      <td id=\"T_2b79a_row6_col8\" class=\"data row6 col8\" >1.1000</td>\n",
       "    </tr>\n",
       "    <tr>\n",
       "      <th id=\"T_2b79a_level0_row7\" class=\"row_heading level0 row7\" >et</th>\n",
       "      <td id=\"T_2b79a_row7_col0\" class=\"data row7 col0\" >Extra Trees Classifier</td>\n",
       "      <td id=\"T_2b79a_row7_col1\" class=\"data row7 col1\" >0.2557</td>\n",
       "      <td id=\"T_2b79a_row7_col2\" class=\"data row7 col2\" >0.8530</td>\n",
       "      <td id=\"T_2b79a_row7_col3\" class=\"data row7 col3\" >0.2557</td>\n",
       "      <td id=\"T_2b79a_row7_col4\" class=\"data row7 col4\" >0.6635</td>\n",
       "      <td id=\"T_2b79a_row7_col5\" class=\"data row7 col5\" >0.1956</td>\n",
       "      <td id=\"T_2b79a_row7_col6\" class=\"data row7 col6\" >0.1202</td>\n",
       "      <td id=\"T_2b79a_row7_col7\" class=\"data row7 col7\" >0.3041</td>\n",
       "      <td id=\"T_2b79a_row7_col8\" class=\"data row7 col8\" >3.5940</td>\n",
       "    </tr>\n",
       "    <tr>\n",
       "      <th id=\"T_2b79a_level0_row8\" class=\"row_heading level0 row8\" >lightgbm</th>\n",
       "      <td id=\"T_2b79a_row8_col0\" class=\"data row8 col0\" >Light Gradient Boosting Machine</td>\n",
       "      <td id=\"T_2b79a_row8_col1\" class=\"data row8 col1\" >0.1679</td>\n",
       "      <td id=\"T_2b79a_row8_col2\" class=\"data row8 col2\" >0.7294</td>\n",
       "      <td id=\"T_2b79a_row8_col3\" class=\"data row8 col3\" >0.1679</td>\n",
       "      <td id=\"T_2b79a_row8_col4\" class=\"data row8 col4\" >0.8323</td>\n",
       "      <td id=\"T_2b79a_row8_col5\" class=\"data row8 col5\" >0.0772</td>\n",
       "      <td id=\"T_2b79a_row8_col6\" class=\"data row8 col6\" >0.0250</td>\n",
       "      <td id=\"T_2b79a_row8_col7\" class=\"data row8 col7\" >0.1382</td>\n",
       "      <td id=\"T_2b79a_row8_col8\" class=\"data row8 col8\" >2.7860</td>\n",
       "    </tr>\n",
       "    <tr>\n",
       "      <th id=\"T_2b79a_level0_row9\" class=\"row_heading level0 row9\" >rf</th>\n",
       "      <td id=\"T_2b79a_row9_col0\" class=\"data row9 col0\" >Random Forest Classifier</td>\n",
       "      <td id=\"T_2b79a_row9_col1\" class=\"data row9 col1\" >0.1620</td>\n",
       "      <td id=\"T_2b79a_row9_col2\" class=\"data row9 col2\" >0.8640</td>\n",
       "      <td id=\"T_2b79a_row9_col3\" class=\"data row9 col3\" >0.1620</td>\n",
       "      <td id=\"T_2b79a_row9_col4\" class=\"data row9 col4\" >0.8214</td>\n",
       "      <td id=\"T_2b79a_row9_col5\" class=\"data row9 col5\" >0.0650</td>\n",
       "      <td id=\"T_2b79a_row9_col6\" class=\"data row9 col6\" >0.0218</td>\n",
       "      <td id=\"T_2b79a_row9_col7\" class=\"data row9 col7\" >0.1395</td>\n",
       "      <td id=\"T_2b79a_row9_col8\" class=\"data row9 col8\" >4.2610</td>\n",
       "    </tr>\n",
       "    <tr>\n",
       "      <th id=\"T_2b79a_level0_row10\" class=\"row_heading level0 row10\" >gbc</th>\n",
       "      <td id=\"T_2b79a_row10_col0\" class=\"data row10 col0\" >Gradient Boosting Classifier</td>\n",
       "      <td id=\"T_2b79a_row10_col1\" class=\"data row10 col1\" >0.1617</td>\n",
       "      <td id=\"T_2b79a_row10_col2\" class=\"data row10 col2\" >0.0000</td>\n",
       "      <td id=\"T_2b79a_row10_col3\" class=\"data row10 col3\" >0.1617</td>\n",
       "      <td id=\"T_2b79a_row10_col4\" class=\"data row10 col4\" >0.6471</td>\n",
       "      <td id=\"T_2b79a_row10_col5\" class=\"data row10 col5\" >0.0651</td>\n",
       "      <td id=\"T_2b79a_row10_col6\" class=\"data row10 col6\" >0.0113</td>\n",
       "      <td id=\"T_2b79a_row10_col7\" class=\"data row10 col7\" >0.1095</td>\n",
       "      <td id=\"T_2b79a_row10_col8\" class=\"data row10 col8\" >25.4290</td>\n",
       "    </tr>\n",
       "    <tr>\n",
       "      <th id=\"T_2b79a_level0_row11\" class=\"row_heading level0 row11\" >ada</th>\n",
       "      <td id=\"T_2b79a_row11_col0\" class=\"data row11 col0\" >Ada Boost Classifier</td>\n",
       "      <td id=\"T_2b79a_row11_col1\" class=\"data row11 col1\" >0.1467</td>\n",
       "      <td id=\"T_2b79a_row11_col2\" class=\"data row11 col2\" >0.0000</td>\n",
       "      <td id=\"T_2b79a_row11_col3\" class=\"data row11 col3\" >0.1467</td>\n",
       "      <td id=\"T_2b79a_row11_col4\" class=\"data row11 col4\" >0.5331</td>\n",
       "      <td id=\"T_2b79a_row11_col5\" class=\"data row11 col5\" >0.0411</td>\n",
       "      <td id=\"T_2b79a_row11_col6\" class=\"data row11 col6\" >0.0025</td>\n",
       "      <td id=\"T_2b79a_row11_col7\" class=\"data row11 col7\" >0.0160</td>\n",
       "      <td id=\"T_2b79a_row11_col8\" class=\"data row11 col8\" >3.7050</td>\n",
       "    </tr>\n",
       "    <tr>\n",
       "      <th id=\"T_2b79a_level0_row12\" class=\"row_heading level0 row12\" >nb</th>\n",
       "      <td id=\"T_2b79a_row12_col0\" class=\"data row12 col0\" >Naive Bayes</td>\n",
       "      <td id=\"T_2b79a_row12_col1\" class=\"data row12 col1\" >0.0521</td>\n",
       "      <td id=\"T_2b79a_row12_col2\" class=\"data row12 col2\" >0.5426</td>\n",
       "      <td id=\"T_2b79a_row12_col3\" class=\"data row12 col3\" >0.0521</td>\n",
       "      <td id=\"T_2b79a_row12_col4\" class=\"data row12 col4\" >0.7345</td>\n",
       "      <td id=\"T_2b79a_row12_col5\" class=\"data row12 col5\" >0.0091</td>\n",
       "      <td id=\"T_2b79a_row12_col6\" class=\"data row12 col6\" >0.0020</td>\n",
       "      <td id=\"T_2b79a_row12_col7\" class=\"data row12 col7\" >0.0403</td>\n",
       "      <td id=\"T_2b79a_row12_col8\" class=\"data row12 col8\" >1.1450</td>\n",
       "    </tr>\n",
       "    <tr>\n",
       "      <th id=\"T_2b79a_level0_row13\" class=\"row_heading level0 row13\" >qda</th>\n",
       "      <td id=\"T_2b79a_row13_col0\" class=\"data row13 col0\" >Quadratic Discriminant Analysis</td>\n",
       "      <td id=\"T_2b79a_row13_col1\" class=\"data row13 col1\" >0.0501</td>\n",
       "      <td id=\"T_2b79a_row13_col2\" class=\"data row13 col2\" >0.0000</td>\n",
       "      <td id=\"T_2b79a_row13_col3\" class=\"data row13 col3\" >0.0501</td>\n",
       "      <td id=\"T_2b79a_row13_col4\" class=\"data row13 col4\" >0.6897</td>\n",
       "      <td id=\"T_2b79a_row13_col5\" class=\"data row13 col5\" >0.0050</td>\n",
       "      <td id=\"T_2b79a_row13_col6\" class=\"data row13 col6\" >0.0001</td>\n",
       "      <td id=\"T_2b79a_row13_col7\" class=\"data row13 col7\" >0.0074</td>\n",
       "      <td id=\"T_2b79a_row13_col8\" class=\"data row13 col8\" >1.2370</td>\n",
       "    </tr>\n",
       "  </tbody>\n",
       "</table>\n"
      ],
      "text/plain": [
       "<pandas.io.formats.style.Styler at 0x2a5687c5cc0>"
      ]
     },
     "metadata": {},
     "output_type": "display_data"
    },
    {
     "data": {
      "text/html": [],
      "text/plain": [
       "<IPython.core.display.HTML object>"
      ]
     },
     "metadata": {},
     "output_type": "display_data"
    },
    {
     "name": "stderr",
     "output_type": "stream",
     "text": [
      "2024/11/01 00:05:34 WARNING mlflow.models.model: Input example should be provided to infer model signature if the model signature is not provided when logging the model.\n",
      "2024/11/01 00:05:35 WARNING mlflow.models.model: Input example should be provided to infer model signature if the model signature is not provided when logging the model.\n",
      "2024/11/01 00:05:35 WARNING mlflow.models.model: Input example should be provided to infer model signature if the model signature is not provided when logging the model.\n",
      "2024/11/01 00:05:36 WARNING mlflow.models.model: Input example should be provided to infer model signature if the model signature is not provided when logging the model.\n",
      "2024/11/01 00:05:36 WARNING mlflow.models.model: Input example should be provided to infer model signature if the model signature is not provided when logging the model.\n",
      "2024/11/01 00:05:37 WARNING mlflow.models.model: Input example should be provided to infer model signature if the model signature is not provided when logging the model.\n",
      "2024/11/01 00:05:38 WARNING mlflow.models.model: Input example should be provided to infer model signature if the model signature is not provided when logging the model.\n",
      "2024/11/01 00:05:38 WARNING mlflow.models.model: Input example should be provided to infer model signature if the model signature is not provided when logging the model.\n",
      "2024/11/01 00:05:39 WARNING mlflow.models.model: Input example should be provided to infer model signature if the model signature is not provided when logging the model.\n",
      "2024/11/01 00:05:39 WARNING mlflow.models.model: Input example should be provided to infer model signature if the model signature is not provided when logging the model.\n",
      "2024/11/01 00:05:40 WARNING mlflow.models.model: Input example should be provided to infer model signature if the model signature is not provided when logging the model.\n",
      "2024/11/01 00:05:41 WARNING mlflow.models.model: Input example should be provided to infer model signature if the model signature is not provided when logging the model.\n",
      "2024/11/01 00:05:41 WARNING mlflow.models.model: Input example should be provided to infer model signature if the model signature is not provided when logging the model.\n",
      "2024/11/01 00:05:42 WARNING mlflow.models.model: Input example should be provided to infer model signature if the model signature is not provided when logging the model.\n"
     ]
    }
   ],
   "source": [
    "best_model = compare_models()"
   ]
  },
  {
   "cell_type": "markdown",
   "id": "cb292bf4-df10-40ac-97cd-5925741298ec",
   "metadata": {},
   "source": [
    "## Model Tuning"
   ]
  },
  {
   "cell_type": "code",
   "execution_count": 20,
   "id": "9b2a1748-7b88-4445-bddf-4cb9a348a4d5",
   "metadata": {},
   "outputs": [
    {
     "data": {
      "text/html": [],
      "text/plain": [
       "<IPython.core.display.HTML object>"
      ]
     },
     "metadata": {},
     "output_type": "display_data"
    },
    {
     "data": {
      "text/html": [
       "<style type=\"text/css\">\n",
       "#T_3e992_row10_col0, #T_3e992_row10_col1, #T_3e992_row10_col2, #T_3e992_row10_col3, #T_3e992_row10_col4, #T_3e992_row10_col5, #T_3e992_row10_col6 {\n",
       "  background: yellow;\n",
       "}\n",
       "</style>\n",
       "<table id=\"T_3e992\">\n",
       "  <thead>\n",
       "    <tr>\n",
       "      <th class=\"blank level0\" >&nbsp;</th>\n",
       "      <th id=\"T_3e992_level0_col0\" class=\"col_heading level0 col0\" >Accuracy</th>\n",
       "      <th id=\"T_3e992_level0_col1\" class=\"col_heading level0 col1\" >AUC</th>\n",
       "      <th id=\"T_3e992_level0_col2\" class=\"col_heading level0 col2\" >Recall</th>\n",
       "      <th id=\"T_3e992_level0_col3\" class=\"col_heading level0 col3\" >Prec.</th>\n",
       "      <th id=\"T_3e992_level0_col4\" class=\"col_heading level0 col4\" >F1</th>\n",
       "      <th id=\"T_3e992_level0_col5\" class=\"col_heading level0 col5\" >Kappa</th>\n",
       "      <th id=\"T_3e992_level0_col6\" class=\"col_heading level0 col6\" >MCC</th>\n",
       "    </tr>\n",
       "    <tr>\n",
       "      <th class=\"index_name level0\" >Fold</th>\n",
       "      <th class=\"blank col0\" >&nbsp;</th>\n",
       "      <th class=\"blank col1\" >&nbsp;</th>\n",
       "      <th class=\"blank col2\" >&nbsp;</th>\n",
       "      <th class=\"blank col3\" >&nbsp;</th>\n",
       "      <th class=\"blank col4\" >&nbsp;</th>\n",
       "      <th class=\"blank col5\" >&nbsp;</th>\n",
       "      <th class=\"blank col6\" >&nbsp;</th>\n",
       "    </tr>\n",
       "  </thead>\n",
       "  <tbody>\n",
       "    <tr>\n",
       "      <th id=\"T_3e992_level0_row0\" class=\"row_heading level0 row0\" >0</th>\n",
       "      <td id=\"T_3e992_row0_col0\" class=\"data row0 col0\" >0.8227</td>\n",
       "      <td id=\"T_3e992_row0_col1\" class=\"data row0 col1\" >0.0000</td>\n",
       "      <td id=\"T_3e992_row0_col2\" class=\"data row0 col2\" >0.8227</td>\n",
       "      <td id=\"T_3e992_row0_col3\" class=\"data row0 col3\" >0.7984</td>\n",
       "      <td id=\"T_3e992_row0_col4\" class=\"data row0 col4\" >0.7785</td>\n",
       "      <td id=\"T_3e992_row0_col5\" class=\"data row0 col5\" >0.6035</td>\n",
       "      <td id=\"T_3e992_row0_col6\" class=\"data row0 col6\" >0.6400</td>\n",
       "    </tr>\n",
       "    <tr>\n",
       "      <th id=\"T_3e992_level0_row1\" class=\"row_heading level0 row1\" >1</th>\n",
       "      <td id=\"T_3e992_row1_col0\" class=\"data row1 col0\" >0.8227</td>\n",
       "      <td id=\"T_3e992_row1_col1\" class=\"data row1 col1\" >0.0000</td>\n",
       "      <td id=\"T_3e992_row1_col2\" class=\"data row1 col2\" >0.8227</td>\n",
       "      <td id=\"T_3e992_row1_col3\" class=\"data row1 col3\" >0.7983</td>\n",
       "      <td id=\"T_3e992_row1_col4\" class=\"data row1 col4\" >0.7772</td>\n",
       "      <td id=\"T_3e992_row1_col5\" class=\"data row1 col5\" >0.6030</td>\n",
       "      <td id=\"T_3e992_row1_col6\" class=\"data row1 col6\" >0.6405</td>\n",
       "    </tr>\n",
       "    <tr>\n",
       "      <th id=\"T_3e992_level0_row2\" class=\"row_heading level0 row2\" >2</th>\n",
       "      <td id=\"T_3e992_row2_col0\" class=\"data row2 col0\" >0.8238</td>\n",
       "      <td id=\"T_3e992_row2_col1\" class=\"data row2 col1\" >0.0000</td>\n",
       "      <td id=\"T_3e992_row2_col2\" class=\"data row2 col2\" >0.8238</td>\n",
       "      <td id=\"T_3e992_row2_col3\" class=\"data row2 col3\" >0.8001</td>\n",
       "      <td id=\"T_3e992_row2_col4\" class=\"data row2 col4\" >0.7802</td>\n",
       "      <td id=\"T_3e992_row2_col5\" class=\"data row2 col5\" >0.6059</td>\n",
       "      <td id=\"T_3e992_row2_col6\" class=\"data row2 col6\" >0.6429</td>\n",
       "    </tr>\n",
       "    <tr>\n",
       "      <th id=\"T_3e992_level0_row3\" class=\"row_heading level0 row3\" >3</th>\n",
       "      <td id=\"T_3e992_row3_col0\" class=\"data row3 col0\" >0.8224</td>\n",
       "      <td id=\"T_3e992_row3_col1\" class=\"data row3 col1\" >0.0000</td>\n",
       "      <td id=\"T_3e992_row3_col2\" class=\"data row3 col2\" >0.8224</td>\n",
       "      <td id=\"T_3e992_row3_col3\" class=\"data row3 col3\" >0.7972</td>\n",
       "      <td id=\"T_3e992_row3_col4\" class=\"data row3 col4\" >0.7777</td>\n",
       "      <td id=\"T_3e992_row3_col5\" class=\"data row3 col5\" >0.6032</td>\n",
       "      <td id=\"T_3e992_row3_col6\" class=\"data row3 col6\" >0.6392</td>\n",
       "    </tr>\n",
       "    <tr>\n",
       "      <th id=\"T_3e992_level0_row4\" class=\"row_heading level0 row4\" >4</th>\n",
       "      <td id=\"T_3e992_row4_col0\" class=\"data row4 col0\" >0.8233</td>\n",
       "      <td id=\"T_3e992_row4_col1\" class=\"data row4 col1\" >0.0000</td>\n",
       "      <td id=\"T_3e992_row4_col2\" class=\"data row4 col2\" >0.8233</td>\n",
       "      <td id=\"T_3e992_row4_col3\" class=\"data row4 col3\" >0.7981</td>\n",
       "      <td id=\"T_3e992_row4_col4\" class=\"data row4 col4\" >0.7797</td>\n",
       "      <td id=\"T_3e992_row4_col5\" class=\"data row4 col5\" >0.6052</td>\n",
       "      <td id=\"T_3e992_row4_col6\" class=\"data row4 col6\" >0.6414</td>\n",
       "    </tr>\n",
       "    <tr>\n",
       "      <th id=\"T_3e992_level0_row5\" class=\"row_heading level0 row5\" >5</th>\n",
       "      <td id=\"T_3e992_row5_col0\" class=\"data row5 col0\" >0.8221</td>\n",
       "      <td id=\"T_3e992_row5_col1\" class=\"data row5 col1\" >0.0000</td>\n",
       "      <td id=\"T_3e992_row5_col2\" class=\"data row5 col2\" >0.8221</td>\n",
       "      <td id=\"T_3e992_row5_col3\" class=\"data row5 col3\" >0.7953</td>\n",
       "      <td id=\"T_3e992_row5_col4\" class=\"data row5 col4\" >0.7775</td>\n",
       "      <td id=\"T_3e992_row5_col5\" class=\"data row5 col5\" >0.6020</td>\n",
       "      <td id=\"T_3e992_row5_col6\" class=\"data row5 col6\" >0.6389</td>\n",
       "    </tr>\n",
       "    <tr>\n",
       "      <th id=\"T_3e992_level0_row6\" class=\"row_heading level0 row6\" >6</th>\n",
       "      <td id=\"T_3e992_row6_col0\" class=\"data row6 col0\" >0.8229</td>\n",
       "      <td id=\"T_3e992_row6_col1\" class=\"data row6 col1\" >0.0000</td>\n",
       "      <td id=\"T_3e992_row6_col2\" class=\"data row6 col2\" >0.8229</td>\n",
       "      <td id=\"T_3e992_row6_col3\" class=\"data row6 col3\" >0.7975</td>\n",
       "      <td id=\"T_3e992_row6_col4\" class=\"data row6 col4\" >0.7789</td>\n",
       "      <td id=\"T_3e992_row6_col5\" class=\"data row6 col5\" >0.6040</td>\n",
       "      <td id=\"T_3e992_row6_col6\" class=\"data row6 col6\" >0.6407</td>\n",
       "    </tr>\n",
       "    <tr>\n",
       "      <th id=\"T_3e992_level0_row7\" class=\"row_heading level0 row7\" >7</th>\n",
       "      <td id=\"T_3e992_row7_col0\" class=\"data row7 col0\" >0.8222</td>\n",
       "      <td id=\"T_3e992_row7_col1\" class=\"data row7 col1\" >0.0000</td>\n",
       "      <td id=\"T_3e992_row7_col2\" class=\"data row7 col2\" >0.8222</td>\n",
       "      <td id=\"T_3e992_row7_col3\" class=\"data row7 col3\" >0.7974</td>\n",
       "      <td id=\"T_3e992_row7_col4\" class=\"data row7 col4\" >0.7772</td>\n",
       "      <td id=\"T_3e992_row7_col5\" class=\"data row7 col5\" >0.6019</td>\n",
       "      <td id=\"T_3e992_row7_col6\" class=\"data row7 col6\" >0.6391</td>\n",
       "    </tr>\n",
       "    <tr>\n",
       "      <th id=\"T_3e992_level0_row8\" class=\"row_heading level0 row8\" >8</th>\n",
       "      <td id=\"T_3e992_row8_col0\" class=\"data row8 col0\" >0.8230</td>\n",
       "      <td id=\"T_3e992_row8_col1\" class=\"data row8 col1\" >0.0000</td>\n",
       "      <td id=\"T_3e992_row8_col2\" class=\"data row8 col2\" >0.8230</td>\n",
       "      <td id=\"T_3e992_row8_col3\" class=\"data row8 col3\" >0.7995</td>\n",
       "      <td id=\"T_3e992_row8_col4\" class=\"data row8 col4\" >0.7790</td>\n",
       "      <td id=\"T_3e992_row8_col5\" class=\"data row8 col5\" >0.6037</td>\n",
       "      <td id=\"T_3e992_row8_col6\" class=\"data row8 col6\" >0.6409</td>\n",
       "    </tr>\n",
       "    <tr>\n",
       "      <th id=\"T_3e992_level0_row9\" class=\"row_heading level0 row9\" >9</th>\n",
       "      <td id=\"T_3e992_row9_col0\" class=\"data row9 col0\" >0.8230</td>\n",
       "      <td id=\"T_3e992_row9_col1\" class=\"data row9 col1\" >0.0000</td>\n",
       "      <td id=\"T_3e992_row9_col2\" class=\"data row9 col2\" >0.8230</td>\n",
       "      <td id=\"T_3e992_row9_col3\" class=\"data row9 col3\" >0.7977</td>\n",
       "      <td id=\"T_3e992_row9_col4\" class=\"data row9 col4\" >0.7796</td>\n",
       "      <td id=\"T_3e992_row9_col5\" class=\"data row9 col5\" >0.6044</td>\n",
       "      <td id=\"T_3e992_row9_col6\" class=\"data row9 col6\" >0.6407</td>\n",
       "    </tr>\n",
       "    <tr>\n",
       "      <th id=\"T_3e992_level0_row10\" class=\"row_heading level0 row10\" >Mean</th>\n",
       "      <td id=\"T_3e992_row10_col0\" class=\"data row10 col0\" >0.8228</td>\n",
       "      <td id=\"T_3e992_row10_col1\" class=\"data row10 col1\" >0.0000</td>\n",
       "      <td id=\"T_3e992_row10_col2\" class=\"data row10 col2\" >0.8228</td>\n",
       "      <td id=\"T_3e992_row10_col3\" class=\"data row10 col3\" >0.7980</td>\n",
       "      <td id=\"T_3e992_row10_col4\" class=\"data row10 col4\" >0.7786</td>\n",
       "      <td id=\"T_3e992_row10_col5\" class=\"data row10 col5\" >0.6037</td>\n",
       "      <td id=\"T_3e992_row10_col6\" class=\"data row10 col6\" >0.6404</td>\n",
       "    </tr>\n",
       "    <tr>\n",
       "      <th id=\"T_3e992_level0_row11\" class=\"row_heading level0 row11\" >Std</th>\n",
       "      <td id=\"T_3e992_row11_col0\" class=\"data row11 col0\" >0.0005</td>\n",
       "      <td id=\"T_3e992_row11_col1\" class=\"data row11 col1\" >0.0000</td>\n",
       "      <td id=\"T_3e992_row11_col2\" class=\"data row11 col2\" >0.0005</td>\n",
       "      <td id=\"T_3e992_row11_col3\" class=\"data row11 col3\" >0.0012</td>\n",
       "      <td id=\"T_3e992_row11_col4\" class=\"data row11 col4\" >0.0010</td>\n",
       "      <td id=\"T_3e992_row11_col5\" class=\"data row11 col5\" >0.0012</td>\n",
       "      <td id=\"T_3e992_row11_col6\" class=\"data row11 col6\" >0.0012</td>\n",
       "    </tr>\n",
       "  </tbody>\n",
       "</table>\n"
      ],
      "text/plain": [
       "<pandas.io.formats.style.Styler at 0x2a55901ffd0>"
      ]
     },
     "metadata": {},
     "output_type": "display_data"
    },
    {
     "data": {
      "text/html": [],
      "text/plain": [
       "<IPython.core.display.HTML object>"
      ]
     },
     "metadata": {},
     "output_type": "display_data"
    },
    {
     "name": "stdout",
     "output_type": "stream",
     "text": [
      "Fitting 10 folds for each of 10 candidates, totalling 100 fits\n",
      "Original model was better than the tuned model, hence it will be returned. NOTE: The display metrics are for the tuned model (not the original one).\n"
     ]
    },
    {
     "name": "stderr",
     "output_type": "stream",
     "text": [
      "2024/11/01 00:07:51 WARNING mlflow.models.model: Input example should be provided to infer model signature if the model signature is not provided when logging the model.\n"
     ]
    }
   ],
   "source": [
    "tuned_model = tune_model(best_model)"
   ]
  },
  {
   "cell_type": "markdown",
   "id": "9a93def0-bb98-4bf9-bd98-a24784f2e1f5",
   "metadata": {},
   "source": [
    "## Evaluate Model"
   ]
  },
  {
   "cell_type": "code",
   "execution_count": 21,
   "id": "c2209542-969d-47db-8a5c-afe3a333e6cc",
   "metadata": {},
   "outputs": [
    {
     "data": {
      "application/vnd.jupyter.widget-view+json": {
       "model_id": "16025fef446b47628246b878b310e239",
       "version_major": 2,
       "version_minor": 0
      },
      "text/plain": [
       "interactive(children=(ToggleButtons(description='Plot Type:', icons=('',), options=(('Pipeline Plot', 'pipelin…"
      ]
     },
     "metadata": {},
     "output_type": "display_data"
    }
   ],
   "source": [
    "evaluate_model(tuned_model)"
   ]
  },
  {
   "cell_type": "code",
   "execution_count": 53,
   "id": "4f3b8c07-0359-458c-a945-9a14d19f1590",
   "metadata": {},
   "outputs": [
    {
     "data": {
      "text/html": [],
      "text/plain": [
       "<IPython.core.display.HTML object>"
      ]
     },
     "metadata": {},
     "output_type": "display_data"
    },
    {
     "data": {
      "image/png": "[encoded data removed]",
      "text/plain": [
       "<Figure size 800x500 with 1 Axes>"
      ]
     },
     "metadata": {},
     "output_type": "display_data"
    }
   ],
   "source": [
    "# Display overall feature importance\n",
    "plot_model(loaded_model, plot='feature')"
   ]
  },
  {
   "cell_type": "markdown",
   "id": "cff76f52-97ec-44df-aaac-d20a1e83c27e",
   "metadata": {},
   "source": [
    "## Finalize and Save Model"
   ]
  },
  {
   "cell_type": "code",
   "execution_count": 35,
   "id": "4102f901-aae0-4eae-9005-55a8671567de",
   "metadata": {},
   "outputs": [
    {
     "name": "stdout",
     "output_type": "stream",
     "text": [
      "Transformation Pipeline and Model Successfully Saved\n"
     ]
    },
    {
     "data": {
      "text/plain": [
       "(Pipeline(memory=Memory(location=None),\n",
       "          steps=[('numerical_imputer',\n",
       "                  TransformerWrapper(exclude=None,\n",
       "                                     include=['url_length', 'special_char_count',\n",
       "                                              'is_https', 'digit_count',\n",
       "                                              'letter_count'],\n",
       "                                     transformer=SimpleImputer(add_indicator=False,\n",
       "                                                               copy=True,\n",
       "                                                               fill_value=None,\n",
       "                                                               keep_empty_features=False,\n",
       "                                                               missing_values=nan,\n",
       "                                                               strategy='mean'))),\n",
       "                 ('categorical_imputer',\n",
       "                  Transform...\n",
       "                                     transformer=TargetEncoder(cols=['url',\n",
       "                                                                     'domain'],\n",
       "                                                               drop_invariant=False,\n",
       "                                                               handle_missing='return_nan',\n",
       "                                                               handle_unknown='value',\n",
       "                                                               hierarchy=None,\n",
       "                                                               min_samples_leaf=20,\n",
       "                                                               return_df=True,\n",
       "                                                               smoothing=10,\n",
       "                                                               verbose=0))),\n",
       "                 ('actual_estimator',\n",
       "                  LinearDiscriminantAnalysis(covariance_estimator=None,\n",
       "                                             n_components=None, priors=None,\n",
       "                                             shrinkage=None, solver='svd',\n",
       "                                             store_covariance=False,\n",
       "                                             tol=0.0001))],\n",
       "          verbose=False),\n",
       " 'website_legitimacy_model.pkl')"
      ]
     },
     "execution_count": 35,
     "metadata": {},
     "output_type": "execute_result"
    }
   ],
   "source": [
    "save_model(final_model, 'website_legitimacy_model')  # PyCaret will append .pkl automatically"
   ]
  },
  {
   "cell_type": "markdown",
   "id": "64948dfa-b65d-4c77-bc00-a13392433b37",
   "metadata": {},
   "source": [
    "# Step 7: Model Testing and Prediction"
   ]
  },
  {
   "cell_type": "markdown",
   "id": "e56bb3fc-0646-491d-98d6-2b875b158675",
   "metadata": {},
   "source": [
    "## Load Model for Future Predictions"
   ]
  },
  {
   "cell_type": "code",
   "execution_count": 14,
   "id": "4e79618b-c36e-4950-8267-3dcd79f71467",
   "metadata": {},
   "outputs": [
    {
     "name": "stdout",
     "output_type": "stream",
     "text": [
      "Transformation Pipeline and Model Successfully Loaded\n"
     ]
    }
   ],
   "source": [
    "from pycaret.classification import load_model, predict_model\n",
    "import pandas as pd\n",
    "from urllib.parse import urlparse\n",
    "\n",
    "# Load the model using PyCaret\n",
    "loaded_model = load_model('website_legitimacy_model')"
   ]
  },
  {
   "cell_type": "markdown",
   "id": "5dbbf38d-7be2-4539-ad64-f5f3ab5e291a",
   "metadata": {},
   "source": [
    "## Define Prediction Function"
   ]
  },
  {
   "cell_type": "code",
   "execution_count": 15,
   "id": "2775ea47-ae92-421d-92e6-3619cc1ecae9",
   "metadata": {},
   "outputs": [],
   "source": [
    "# Define helper functions\n",
    "def count_special_chars(url):\n",
    "    return sum(1 for char in url if not char.isalnum())\n",
    "\n",
    "# Define the prediction function\n",
    "def predict_website_legitimacy(url, model):\n",
    "    # Define the mapping for label interpretation\n",
    "    label_mapping = {\n",
    "        0: \"benign\",\n",
    "        1: \"phishing\",\n",
    "        2: \"defacement\",\n",
    "        3: \"malware\"\n",
    "    }\n",
    "    \n",
    "    # Prepare features for the URL with placeholders for expected columns\n",
    "    features = {\n",
    "        'url_length': len(url),\n",
    "        'special_char_count': count_special_chars(url),\n",
    "        'is_https': 1 if urlparse(url).scheme == 'https' else 0,\n",
    "        'digit_count': sum(c.isdigit() for c in url),\n",
    "        'letter_count': sum(c.isalpha() for c in url),\n",
    "        'url': url,\n",
    "        'domain': 'example.com'\n",
    "    }\n",
    "    \n",
    "    input_df = pd.DataFrame([features])\n",
    "    \n",
    "    # Use PyCaret's predict_model\n",
    "    predictions = predict_model(model, data=input_df)\n",
    "    \n",
    "    # Extract the numeric label and confidence score\n",
    "    numeric_label = predictions['prediction_label'][0]\n",
    "    confidence_score = predictions['prediction_score'][0]\n",
    "    \n",
    "    # Map numeric label to its category name\n",
    "    predicted_label = label_mapping.get(numeric_label, \"Unknown\")\n",
    "    \n",
    "    return predicted_label, confidence_score"
   ]
  },
  {
   "cell_type": "markdown",
   "id": "e5eb52eb-9b61-4120-bf4b-9e8ab970b1b5",
   "metadata": {},
   "source": [
    "## Run a Test Prediction"
   ]
  },
  {
   "cell_type": "code",
   "execution_count": 34,
   "id": "19aab7fe-e2e4-4baa-ace4-a40c9f6018ee",
   "metadata": {},
   "outputs": [
    {
     "name": "stdout",
     "output_type": "stream",
     "text": [
      "The predicted class for http://www.facebook.com is: ('benign', 0.6896)\n"
     ]
    }
   ],
   "source": [
    "# Test the function\n",
    "test_url = \"http://www.facebook.com\"\n",
    "prediction = predict_website_legitimacy(test_url, loaded_model)\n",
    "print(f\"The predicted class for {test_url} is: {prediction}\")\n"
   ]
  },
  {
   "cell_type": "code",
   "execution_count": 38,
   "id": "8e181ae7-b477-4299-ac56-5c72433b6853",
   "metadata": {},
   "outputs": [
    {
     "name": "stdout",
     "output_type": "stream",
     "text": [
      "The predicted class for https://www.google.com is: ('benign', 0.918)\n",
      "The predicted class for http://www.google.com is: ('benign', 0.9)\n"
     ]
    }
   ],
   "source": [
    "def predict_website_legitimacy_with_domain_check(url, model):\n",
    "    cleaned_url = clean_url(url)\n",
    "    prediction, confidence = predict_website_legitimacy(cleaned_url, model)\n",
    "    \n",
    "    # Override for well-known domains\n",
    "    trusted_domains = [\"facebook.com\", \"google.com\", \"apple.com\"]\n",
    "    domain = urlparse(cleaned_url).netloc.replace(\"www.\", \"\")\n",
    "    \n",
    "    if domain in trusted_domains:\n",
    "        return \"benign\", max(confidence, 0.9)  # Adjust confidence threshold for known benign sites\n",
    "    \n",
    "    return prediction, confidence\n",
    "\n",
    "# Test with the modified prediction function\n",
    "test_url = \"https://www.google.com\"\n",
    "prediction = predict_website_legitimacy_with_domain_check(test_url, loaded_model)\n",
    "print(f\"The predicted class for {test_url} is: {prediction}\")\n",
    "\n",
    "test_url = \"http://www.google.com\"\n",
    "prediction = predict_website_legitimacy_with_domain_check(test_url, loaded_model)\n",
    "print(f\"The predicted class for {test_url} is: {prediction}\")"
   ]
  },
  {
   "cell_type": "code",
   "execution_count": null,
   "id": "3c6386d2-624a-4d67-affb-612859865498",
   "metadata": {},
   "outputs": [],
   "source": []
  }
 ],
 "metadata": {
  "kernelspec": {
   "display_name": "Python 3 (ipykernel)",
   "language": "python",
   "name": "python3"
  },
  "language_info": {
   "codemirror_mode": {
    "name": "ipython",
    "version": 3
   },
   "file_extension": ".py",
   "mimetype": "text/x-python",
   "name": "python",
   "nbconvert_exporter": "python",
   "pygments_lexer": "ipython3",
   "version": "3.10.8"
  }
 },
 "nbformat": 4,
 "nbformat_minor": 5
}
